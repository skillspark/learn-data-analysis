{
 "cells": [
  {
   "attachments": {},
   "cell_type": "markdown",
   "metadata": {},
   "source": [
    "# Guided Project: Analyzing NYC High School Data\n",
    "\n",
    "## Table of Contents\n",
    "\n",
    "1. [Introduction](#introduction)\n",
    "2. [Read in the data](#read-in-the-data)\n",
    "3. [Read in the surveys](#read-in-the-surveys)\n",
    "4. [Add DBN columns](#add-dbn-columns)\n",
    "5. [Convert columns to numeric](#convert-columns-to-numeric)\n",
    "6. [Condense datasets](#condense-datasets)\n",
    "7. [Convert AP scores to numeric](#convert-ap-scores-to-numeric)\n",
    "8. [Combine the datasets](#combine-the-datasets)\n",
    "9. [Add a school district column for mapping](#add-a-school-district-column-for-mapping)\n",
    "10. [Find correlations](#find-correlations)\n",
    "11. [Plotting survey correlations](#plotting-survey-correlations)\n",
    "12. [Exploring Safety and SAT Scores](#exploring-safety-and-sat-scores)\n",
    "13. [Exploring Race and SAT Scores](#exploring-race-and-sat-scores)\n",
    "14. [Exploring Gender and SAT Scores](#exploring-gender-and-sat-scores)\n",
    "15. [Exploring AP Scores vs. SAT Scores](#exploring-ap-scores-vs-sat-scores)"
   ]
  },
  {
   "cell_type": "markdown",
   "metadata": {},
   "source": [
    "## Introduction <a name=\"introduction\"></a>\n",
    "This is a guided project I completed on the [Dataquest](https://app.dataquest.io)  learning platform. \n",
    "The focus of this project was to learn new skills related to the data cleansing workflow. The goals are to cleanse and merge the available public data sets as well as to start investigating any correlations between the SAT Scores and other factors apparent from New York City public schools.\n",
    "The code is written in Python, using pandas, numpy and re libraries, and is shown in Jupyter Notebooks.\n",
    "\n",
    "The public data sets used are available from the following sources:\n",
    "-  [student SAT scores](https://data.cityofnewyork.us/Education/SAT-Results/f9bf-2cp4) by high school\n",
    "- [School attendance](https://data.cityofnewyork.us/Education/School-Attendance-and-Enrollment-Statistics-by-Dis/7z8d-msnt) - Attendance information for each school in New York City\n",
    "- [Class size](https://data.cityofnewyork.us/Education/2010-2011-Class-Size-School-level-detail/urz7-pzb3) - Information on class size for each school\n",
    "- [AP test results](https://data.cityofnewyork.us/Education/AP-College-Board-2010-School-Level-Results/itfs-ms3e) - Advanced Placement (AP) exam results for each high school (passing an optional AP exam in a particular subject can earn a student college credit in that subject)\n",
    "- [Graduation outcomes](https://data.cityofnewyork.us/Education/Graduation-Outcomes-Classes-Of-2005-2010-School-Le/vh2h-md7a) - The percentage of students who graduated and other outcome information\n",
    "- [Demographics](https://data.cityofnewyork.us/Education/School-Demographics-and-Accountability-Snapshot-20/ihfw-zy9j) - Demographic information for each school\n",
    "- [School survey](https://data.cityofnewyork.us/Education/NYC-School-Survey-2011/mnz3-dyi8) - Surveys of parents, teachers, and students at each school"
   ]
  },
  {
   "attachments": {},
   "cell_type": "markdown",
   "metadata": {},
   "source": [
    "# Read in the data <a name=\"read-in-the-data\"></a>"
   ]
  },
  {
   "cell_type": "code",
   "execution_count": 46,
   "metadata": {},
   "outputs": [],
   "source": [
    "import pandas as pd\n",
    "import numpy\n",
    "import re\n",
    "\n",
    "data_files = [\n",
    "    \"ap_2010.csv\",\n",
    "    \"class_size.csv\",\n",
    "    \"demographics.csv\",\n",
    "    \"graduation.csv\",\n",
    "    \"hs_directory.csv\",\n",
    "    \"sat_results.csv\"\n",
    "]\n",
    "\n",
    "data = {}\n",
    "\n",
    "for f in data_files:\n",
    "    d = pd.read_csv(\"data/schools/{0}\".format(f))\n",
    "    data[f.replace(\".csv\", \"\")] = d"
   ]
  },
  {
   "attachments": {},
   "cell_type": "markdown",
   "metadata": {},
   "source": [
    "# Read in the surveys <a name=\"read-in-the-surveys\">"
   ]
  },
  {
   "cell_type": "code",
   "execution_count": 47,
   "metadata": {},
   "outputs": [
    {
     "name": "stderr",
     "output_type": "stream",
     "text": [
      "/tmp/ipykernel_131056/1811195328.py:5: PerformanceWarning: DataFrame is highly fragmented.  This is usually the result of calling `frame.insert` many times, which has poor performance.  Consider joining all columns at once using pd.concat(axis=1) instead. To get a de-fragmented frame, use `newframe = frame.copy()`\n",
      "  survey[\"DBN\"] = survey[\"dbn\"]\n"
     ]
    }
   ],
   "source": [
    "all_survey = pd.read_csv(\"data/schools/survey_all.txt\", delimiter=\"\\t\", encoding='windows-1252')\n",
    "d75_survey = pd.read_csv(\"data/schools/survey_d75.txt\", delimiter=\"\\t\", encoding='windows-1252')\n",
    "survey = pd.concat([all_survey, d75_survey], axis=0)\n",
    "\n",
    "survey[\"DBN\"] = survey[\"dbn\"]\n",
    "\n",
    "survey_fields = [\n",
    "    \"DBN\", \n",
    "    \"rr_s\", \n",
    "    \"rr_t\", \n",
    "    \"rr_p\", \n",
    "    \"N_s\", \n",
    "    \"N_t\", \n",
    "    \"N_p\", \n",
    "    \"saf_p_11\", \n",
    "    \"com_p_11\", \n",
    "    \"eng_p_11\", \n",
    "    \"aca_p_11\", \n",
    "    \"saf_t_11\", \n",
    "    \"com_t_11\", \n",
    "    \"eng_t_11\", \n",
    "    \"aca_t_11\", \n",
    "    \"saf_s_11\", \n",
    "    \"com_s_11\", \n",
    "    \"eng_s_11\", \n",
    "    \"aca_s_11\", \n",
    "    \"saf_tot_11\", \n",
    "    \"com_tot_11\", \n",
    "    \"eng_tot_11\", \n",
    "    \"aca_tot_11\",\n",
    "]\n",
    "survey = survey.loc[:,survey_fields]\n",
    "data[\"survey\"] = survey"
   ]
  },
  {
   "attachments": {},
   "cell_type": "markdown",
   "metadata": {},
   "source": [
    "# Add DBN columns <a name=\"add-dbn-columns\">"
   ]
  },
  {
   "cell_type": "code",
   "execution_count": 48,
   "metadata": {},
   "outputs": [],
   "source": [
    "data[\"hs_directory\"][\"DBN\"] = data[\"hs_directory\"][\"dbn\"]\n",
    "\n",
    "def pad_csd(num):\n",
    "    string_representation = str(num)\n",
    "    if len(string_representation) > 1:\n",
    "        return string_representation\n",
    "    else:\n",
    "        return \"0\" + string_representation\n",
    "    \n",
    "data[\"class_size\"][\"padded_csd\"] = data[\"class_size\"][\"CSD\"].apply(pad_csd)\n",
    "data[\"class_size\"][\"DBN\"] = data[\"class_size\"][\"padded_csd\"] + data[\"class_size\"][\"SCHOOL CODE\"]"
   ]
  },
  {
   "attachments": {},
   "cell_type": "markdown",
   "metadata": {},
   "source": [
    "# Convert columns to numeric  <a name=\"convert-columns-to-numeric\">"
   ]
  },
  {
   "cell_type": "code",
   "execution_count": 49,
   "metadata": {},
   "outputs": [],
   "source": [
    "cols = ['SAT Math Avg. Score', 'SAT Critical Reading Avg. Score', 'SAT Writing Avg. Score']\n",
    "for c in cols:\n",
    "    data[\"sat_results\"][c] = pd.to_numeric(data[\"sat_results\"][c], errors=\"coerce\")\n",
    "\n",
    "data['sat_results']['sat_score'] = data['sat_results'][cols[0]] + data['sat_results'][cols[1]] + data['sat_results'][cols[2]]\n",
    "\n",
    "def find_lat(loc):\n",
    "    coords = re.findall(\"\\(.+, .+\\)\", loc)\n",
    "    lat = coords[0].split(\",\")[0].replace(\"(\", \"\")\n",
    "    return lat\n",
    "\n",
    "def find_lon(loc):\n",
    "    coords = re.findall(\"\\(.+, .+\\)\", loc)\n",
    "    lon = coords[0].split(\",\")[1].replace(\")\", \"\").strip()\n",
    "    return lon\n",
    "\n",
    "data[\"hs_directory\"][\"lat\"] = data[\"hs_directory\"][\"Location 1\"].apply(find_lat)\n",
    "data[\"hs_directory\"][\"lon\"] = data[\"hs_directory\"][\"Location 1\"].apply(find_lon)\n",
    "\n",
    "data[\"hs_directory\"][\"lat\"] = pd.to_numeric(data[\"hs_directory\"][\"lat\"], errors=\"coerce\")\n",
    "data[\"hs_directory\"][\"lon\"] = pd.to_numeric(data[\"hs_directory\"][\"lon\"], errors=\"coerce\")"
   ]
  },
  {
   "attachments": {},
   "cell_type": "markdown",
   "metadata": {},
   "source": [
    "# Condense datasets <a name=\"condense-datasets\">"
   ]
  },
  {
   "cell_type": "code",
   "execution_count": 50,
   "metadata": {},
   "outputs": [],
   "source": [
    "class_size = data[\"class_size\"]\n",
    "class_size = class_size[class_size[\"GRADE \"] == \"09-12\"]\n",
    "class_size = class_size[class_size[\"PROGRAM TYPE\"] == \"GEN ED\"]\n",
    "\n",
    "#  works on pandas 3 by adding numeric_only=True\n",
    "class_size = class_size.groupby(\"DBN\").mean(numeric_only=True)\n",
    "class_size.reset_index(inplace=True)\n",
    "data[\"class_size\"] = class_size\n",
    "\n",
    "data[\"demographics\"] = data[\"demographics\"][data[\"demographics\"][\"schoolyear\"] == 20112012]\n",
    "\n",
    "data[\"graduation\"] = data[\"graduation\"][data[\"graduation\"][\"Cohort\"] == \"2006\"]\n",
    "data[\"graduation\"] = data[\"graduation\"][data[\"graduation\"][\"Demographic\"] == \"Total Cohort\"]"
   ]
  },
  {
   "attachments": {},
   "cell_type": "markdown",
   "metadata": {},
   "source": [
    "# Convert AP scores to numeric <a name=\"convert-ap-scores-to-numeric\">"
   ]
  },
  {
   "cell_type": "code",
   "execution_count": 51,
   "metadata": {},
   "outputs": [],
   "source": [
    "cols = ['AP Test Takers ', 'Total Exams Taken', 'Number of Exams with scores 3 4 or 5']\n",
    "\n",
    "for col in cols:\n",
    "    data[\"ap_2010\"][col] = pd.to_numeric(data[\"ap_2010\"][col], errors=\"coerce\")"
   ]
  },
  {
   "attachments": {},
   "cell_type": "markdown",
   "metadata": {},
   "source": [
    "# Combine the datasets <a name=\"combine-the-datasets\">"
   ]
  },
  {
   "cell_type": "code",
   "execution_count": 52,
   "metadata": {},
   "outputs": [
    {
     "name": "stdout",
     "output_type": "stream",
     "text": [
      "<class 'pandas.core.frame.DataFrame'>\n",
      "RangeIndex: 363 entries, 0 to 362\n",
      "Columns: 159 entries, DBN to lon\n",
      "dtypes: float64(52), int64(15), object(92)\n",
      "memory usage: 451.0+ KB\n"
     ]
    }
   ],
   "source": [
    "combined = data[\"sat_results\"]\n",
    "\n",
    "combined = combined.merge(data[\"ap_2010\"], on=\"DBN\", how=\"left\")\n",
    "combined = combined.merge(data[\"graduation\"], on=\"DBN\", how=\"left\")\n",
    "\n",
    "to_merge = [\n",
    "            \"class_size\", \n",
    "            \"demographics\", \n",
    "            \"survey\", \n",
    "            \"hs_directory\"\n",
    "            ]\n",
    "\n",
    "for m in to_merge:\n",
    "    combined = combined.merge(data[m], on=\"DBN\", how=\"inner\")\n",
    "\n",
    "combined = combined.fillna(combined.mean(numeric_only=True))\n",
    "combined = combined.fillna(0)\n",
    "combined.info()"
   ]
  },
  {
   "attachments": {},
   "cell_type": "markdown",
   "metadata": {},
   "source": [
    "# Add a school district column for mapping <a name=\"add-a-school-district-column-for-mapping\">"
   ]
  },
  {
   "cell_type": "code",
   "execution_count": 53,
   "metadata": {},
   "outputs": [
    {
     "name": "stderr",
     "output_type": "stream",
     "text": [
      "/tmp/ipykernel_131056/1501977650.py:4: PerformanceWarning: DataFrame is highly fragmented.  This is usually the result of calling `frame.insert` many times, which has poor performance.  Consider joining all columns at once using pd.concat(axis=1) instead. To get a de-fragmented frame, use `newframe = frame.copy()`\n",
      "  combined[\"school_dist\"] = combined[\"DBN\"].apply(get_first_two_chars)\n"
     ]
    }
   ],
   "source": [
    "def get_first_two_chars(dbn):\n",
    "    return dbn[0:2]\n",
    "\n",
    "combined[\"school_dist\"] = combined[\"DBN\"].apply(get_first_two_chars)\n"
   ]
  },
  {
   "attachments": {},
   "cell_type": "markdown",
   "metadata": {},
   "source": [
    "# Find correlations <a name=\"find-correlations\">"
   ]
  },
  {
   "cell_type": "code",
   "execution_count": 54,
   "metadata": {},
   "outputs": [
    {
     "name": "stdout",
     "output_type": "stream",
     "text": [
      "SAT Critical Reading Avg. Score    0.986820\n",
      "SAT Math Avg. Score                0.972643\n",
      "SAT Writing Avg. Score             0.987771\n",
      "sat_score                          1.000000\n",
      "AP Test Takers                     0.523140\n",
      "                                     ...   \n",
      "priority08                              NaN\n",
      "priority09                              NaN\n",
      "priority10                              NaN\n",
      "lat                               -0.121029\n",
      "lon                               -0.132222\n",
      "Name: sat_score, Length: 67, dtype: float64\n"
     ]
    }
   ],
   "source": [
    "correlations = combined.corr(numeric_only=True)\n",
    "correlations = correlations[\"sat_score\"]\n",
    "print(correlations)"
   ]
  },
  {
   "attachments": {},
   "cell_type": "markdown",
   "metadata": {},
   "source": [
    "# Plotting survey correlations <a name=\"plotting-survey-correlations\">"
   ]
  },
  {
   "cell_type": "code",
   "execution_count": 55,
   "metadata": {},
   "outputs": [],
   "source": [
    "%matplotlib inline\n",
    "\n",
    "import matplotlib\n",
    "import numpy as np\n",
    "import matplotlib.pyplot as plt\n",
    "\n",
    "# Remove DBN since it's a unique identifier, not a useful numerical value for correlation.\n",
    "survey_fields.remove(\"DBN\")\n",
    "\n"
   ]
  },
  {
   "attachments": {},
   "cell_type": "markdown",
   "metadata": {},
   "source": [
    "# Exploring Safety and SAT Scores <a name=\"exploring-safety-and-sat-scores\">"
   ]
  },
  {
   "attachments": {},
   "cell_type": "markdown",
   "metadata": {},
   "source": [
    "## Investigate safety scores "
   ]
  },
  {
   "cell_type": "code",
   "execution_count": 56,
   "metadata": {},
   "outputs": [
    {
     "data": {
      "text/plain": [
       "<Axes: xlabel='sat_score', ylabel='saf_s_11'>"
      ]
     },
     "execution_count": 56,
     "metadata": {},
     "output_type": "execute_result"
    },
    {
     "data": {
      "image/png": "[encoded data removed]",
      "text/plain": [
       "<Figure size 640x480 with 1 Axes>"
      ]
     },
     "metadata": {},
     "output_type": "display_data"
    }
   ],
   "source": [
    "# Make a scatter plot of the saf_s_11 column vs. the sat_score in combined. \n",
    "combined.plot(kind=\"scatter\", x=\"sat_score\", y=\"saf_s_11\")"
   ]
  },
  {
   "attachments": {},
   "cell_type": "markdown",
   "metadata": {},
   "source": [
    "### Conclusion about Safety\n",
    "There seems to be a strong positive correlation between Safety and SAT Scores. "
   ]
  },
  {
   "attachments": {},
   "cell_type": "markdown",
   "metadata": {},
   "source": [
    "## Compute safety scores"
   ]
  },
  {
   "cell_type": "code",
   "execution_count": 57,
   "metadata": {},
   "outputs": [
    {
     "name": "stdout",
     "output_type": "stream",
     "text": [
      "boro\n",
      "Bronx            6.606577\n",
      "Brooklyn         6.370755\n",
      "Manhattan        6.831370\n",
      "Queens           6.721875\n",
      "Staten Island    6.530000\n",
      "Name: saf_s_11, dtype: float64\n"
     ]
    }
   ],
   "source": [
    "# Compute the average safety score for each borough.\n",
    "boro_saft_avg = combined.groupby(\"boro\")[\"saf_s_11\"].mean()\n",
    "print(boro_saft_avg)"
   ]
  },
  {
   "attachments": {},
   "cell_type": "markdown",
   "metadata": {},
   "source": [
    "### Conclusion about Safety Scores\n",
    "The schools in the borough of Brooklyn scores the lowest average safety score, while the schools in the borough of Manhattan scores the highest average safety scores."
   ]
  },
  {
   "attachments": {},
   "cell_type": "markdown",
   "metadata": {},
   "source": [
    "# Exploring Race and SAT Scores <a name=\"exploring-race-and-sat-scores\">"
   ]
  },
  {
   "attachments": {},
   "cell_type": "markdown",
   "metadata": {},
   "source": [
    "## Investigate racial differences in SAT scores"
   ]
  },
  {
   "cell_type": "code",
   "execution_count": 59,
   "metadata": {},
   "outputs": [
    {
     "data": {
      "text/plain": [
       "<Axes: >"
      ]
     },
     "execution_count": 59,
     "metadata": {},
     "output_type": "execute_result"
    },
    {
     "data": {
      "image/png": "[encoded data removed]",
      "text/plain": [
       "<Figure size 640x480 with 1 Axes>"
      ]
     },
     "metadata": {},
     "output_type": "display_data"
    }
   ],
   "source": [
    "# a bar plot of the correlations between the race percentage and sat_score\n",
    "race_scor_cols = [\"white_per\", \"asian_per\", \"black_per\"]\n",
    "combined.corr(numeric_only=True)[\"sat_score\"][race_scor_cols].plot.bar()\n"
   ]
  },
  {
   "attachments": {},
   "cell_type": "markdown",
   "metadata": {},
   "source": [
    "### Conclusion about correlation of racial differences and SAT scores\n",
    "For the correlation between the race of the students and the SAT scores, there appears to be rather strong positive correlations for white and asian. For black, there is a weak negative correlation."
   ]
  },
  {
   "attachments": {},
   "cell_type": "markdown",
   "metadata": {},
   "source": [
    "## Explore schools with low SAT scores and high values for hispanic_per"
   ]
  },
  {
   "cell_type": "code",
   "execution_count": null,
   "metadata": {},
   "outputs": [],
   "source": [
    "# Make a scatter plot of the hispanic_per vs. the sat_score in combined. \n",
    "combined.plot(kind=\"scatter\", x=\"sat_score\", y=\"hispanic_per\")"
   ]
  },
  {
   "attachments": {},
   "cell_type": "markdown",
   "metadata": {},
   "source": [
    "### Conclusion about observation of scatter plot: hispanic percentage vs. SAT scores\n",
    "When the SAT Scores are above around 1500, there appears to be strong negative correlation with hispanic attendees. To confirm, create a scatterplot with SAT scores only above 1500 to check this observation. "
   ]
  },
  {
   "cell_type": "code",
   "execution_count": null,
   "metadata": {
    "scrolled": false
   },
   "outputs": [],
   "source": [
    "# limit to scores above 1500 and create a new scatterplot\n",
    "combined_gt_1500 = combined[combined[\"sat_score\"]>1600]\n",
    "combined_gt_1500.plot(kind=\"scatter\", x=\"sat_score\", y=\"hispanic_per\")\n",
    "print(\"The r-value for the correlation between sat_score and hispanic_per is:\")\n",
    "combined_gt_1500.corr()[\"sat_score\"][\"hispanic_per\"]"
   ]
  },
  {
   "attachments": {},
   "cell_type": "markdown",
   "metadata": {},
   "source": [
    "## Research any schools with a hispanic_per greater than 95%"
   ]
  },
  {
   "cell_type": "code",
   "execution_count": null,
   "metadata": {},
   "outputs": [],
   "source": [
    "# filter the data for >95%\n",
    "combined_hisp_gt_95 = combined[combined[\"hispanic_per\"] > 95]\n",
    "print(combined_hisp_gt_95[\"SCHOOL NAME\"])"
   ]
  },
  {
   "attachments": {},
   "cell_type": "markdown",
   "metadata": {},
   "source": [
    "### Observations about these schools\n",
    "These schools seem to be aimed towards Spanish-speaking students from Latin American backgrounds.\n",
    "Also, the schools are not consistently represented on Wikipedia. "
   ]
  },
  {
   "attachments": {},
   "cell_type": "markdown",
   "metadata": {},
   "source": [
    "## Research any schools with a hispanic_per less than 10% and an average SAT score greater than 1800"
   ]
  },
  {
   "cell_type": "code",
   "execution_count": null,
   "metadata": {},
   "outputs": [],
   "source": [
    "combined_hisp_lt_10 = combined[combined[\"hispanic_per\"] < 10]\n",
    "combined_hisp_lt_10_ss_gt_1800 = combined_hisp_lt_10[combined_hisp_lt_10[\"sat_score\"] > 1800]\n",
    "print(combined_hisp_lt_10_ss_gt_1800[\"SCHOOL NAME\"])"
   ]
  },
  {
   "attachments": {},
   "cell_type": "markdown",
   "metadata": {},
   "source": [
    "### Observations about these schools\n",
    "These schools seem to be high in demand, with only about 3% of applications accepted. This indicates that they are on average accepting less than 10% Hispanic students, and on average accepting students with SAT scores higher than 1800.\n",
    "Also, the schools are consistently represented on Wikipedia. "
   ]
  },
  {
   "attachments": {},
   "cell_type": "markdown",
   "metadata": {},
   "source": [
    "# Exploring Gender and SAT Scores <a name=\"exploring-gender-and-sat-scores\">"
   ]
  },
  {
   "attachments": {},
   "cell_type": "markdown",
   "metadata": {},
   "source": [
    "## Investigate gender differences in SAT scores."
   ]
  },
  {
   "cell_type": "code",
   "execution_count": null,
   "metadata": {},
   "outputs": [],
   "source": [
    "# a bar plot of the correlations between the gender and sat_score\n",
    "gender_scor_cols = [\"male_per\", \"female_per\"]\n",
    "combined.corr()[\"sat_score\"][gender_scor_cols].plot.bar()"
   ]
  },
  {
   "attachments": {},
   "cell_type": "markdown",
   "metadata": {},
   "source": [
    "### Observations about the genders\n",
    "It appears like there are weak postive and negative correlations with SAT scores for male and female student percentages, respectively."
   ]
  },
  {
   "attachments": {},
   "cell_type": "markdown",
   "metadata": {},
   "source": [
    "#  Exploring AP Scores vs. SAT Scores <a name=\"exploring-ap-scores-vs-sat-scores\">"
   ]
  },
  {
   "cell_type": "markdown",
   "metadata": {},
   "source": [
    "## Percentage students in each school taking an AP exam\n",
    "Correlate this AP percentage with the SAT Score."
   ]
  },
  {
   "cell_type": "code",
   "execution_count": null,
   "metadata": {},
   "outputs": [],
   "source": [
    "# calculate the ap_per and add as a new column to the dataset\n",
    "combined[\"ap_per\"] = (combined[\"AP Test Takers \"] / combined[\"total_enrollment\"])*100\n",
    "# draw a scatter plot\n",
    "combined.plot(kind=\"scatter\", x=\"sat_score\", y=\"ap_per\")"
   ]
  },
  {
   "attachments": {},
   "cell_type": "markdown",
   "metadata": {},
   "source": [
    "### Observations about the relationship between AP scores and SAT scores\n",
    "From the chart above it appears that there is no observable relationship between AP Scores and SAT Scores over the whole dataset. However, there is a quite strong positive correlation when looking only at those who scored above 1300 for the SAT Score. See the enhanced scatter plot below.  \n",
    "Also, from the chart above, what is interesting, is there is a almost perfect vertical linear relationship with AP scores where the SAT Score is just above 1200. This could indicate that there is a requirement to take the AP Test if the SAT score is equal to a certain number around 1200."
   ]
  },
  {
   "cell_type": "code",
   "execution_count": null,
   "metadata": {},
   "outputs": [],
   "source": [
    "# limit to scores above 1300 and create a new scatterplot\n",
    "combined_gt_1300 = combined[combined[\"sat_score\"]>1300]\n",
    "combined_gt_1300.plot(kind=\"scatter\", x=\"sat_score\", y=\"ap_per\")\n",
    "print(\"The r-value for the correlation between sat_score > 1300 and ap_per is:\")\n",
    "combined_gt_1300.corr()[\"sat_score\"][\"ap_per\"]"
   ]
  }
 ],
 "metadata": {
  "kernelspec": {
   "display_name": "venv-lda",
   "language": "python",
   "name": "venv-lda"
  },
  "language_info": {
   "codemirror_mode": {
    "name": "ipython",
    "version": 3
   },
   "file_extension": ".py",
   "mimetype": "text/x-python",
   "name": "python",
   "nbconvert_exporter": "python",
   "pygments_lexer": "ipython3",
   "version": "3.10.12"
  }
 },
 "nbformat": 4,
 "nbformat_minor": 2
}
