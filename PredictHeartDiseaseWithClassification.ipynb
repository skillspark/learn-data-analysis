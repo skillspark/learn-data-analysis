{
 "cells": [
  {
   "attachments": {},
   "cell_type": "markdown",
   "metadata": {},
   "source": [
    "# Guided Project: Predicting Heart Disease with Classification using Logistic Regression\n",
    "\n",
    "## Table of Contents \n",
    "1. [Introduction](#introduction)\n",
    "2. [Understanding the Data](#understanding-data)\n",
    "3. [EDA: Descriptive Statistics](#eda-descr)\n",
    "5. [EDA:Visualisations and More Analysis](#eda-vis)\n",
    "6. [Feature Selection](#feat-selec)\n",
    "7. [Dividing the Data](#div-data)\n",
    "8. [Building the Model](#build-mod)\n",
    "9. [Interpreting the Intercept](#interpret)\n",
    "10. [Model Evaluation on Test Set](#model-eval)\n",
    "11. [Final Conclusions](#final)"
   ]
  },
  {
   "attachments": {},
   "cell_type": "markdown",
   "metadata": {},
   "source": [
    "## Introduction <a name=\"introduction\"></a>\n",
    "\n",
    "![human-heart-design_1048-1855.png](img/predictheartdisease/human-heart-design_1048-1855.png)\n",
    "\n",
    "Image source: [User: fedesoriano, kaggle.com](https://www.kaggle.com/datasets/fedesoriano/heart-failure-prediction)\n",
    "\n",
    "This is a project I completed based on a guide called \"Predicting Heart Disease\" on the Dataquest learning platform. In contrast to a previous project with a similar name, it uses classification based on logistic regression.\n",
    "\n",
    "In this project I have learned new skills related to Machine Learning in Python. \n",
    "\n",
    "The implementation is written in Python and is shown in Jupyter Notebooks.\n",
    "\n",
    "### Goal of this project\n",
    "\n",
    "The World Health Organization (WHO) estimates that 17.9 million people die from cardiovascular diseases (CVDs) every year.\n",
    "\n",
    "There are multiple risk factors that could contribute to CVD in an individual, such as unhealthy diet, lack of physical activity, or mental illness. Identifying these risk factors early on could help prevent many premature deaths."
   ]
  },
  {
   "cell_type": "markdown",
   "metadata": {},
   "source": [
    "## Understanding the Data <a name=\"understanding-data\"></a>\n",
    "\n",
    "This [dataset](https://archive.ics.uci.edu/ml/datasets/Heart+Disease) comes from the famous Cleveland Clinic Foundation, which recorded information on various patient characteristics, including age and cholesterol, to try to classify the presence of heart disease in an individual. This a prime example of how machine learning can help solve problems that have a real impact on people's lives. \n",
    "Note: the dataset apparently has missing values. We'll need to check for that.\n",
    "\n",
    "#### Data dictionary\n",
    "We are tasked with using the dataset to accurately predict the likelihood of a new patient having heart disease in the future. Here is the documentation of the dataset:\n",
    "\n",
    "* `age`: age in years\n",
    "* `sex`: sex (1 = male; 0 = female)\n",
    "* `cp`: chest pain type (1 = typical angina; 2 = atypical angina; 3 = non-anginal pain; 4 = asymptomatic)\n",
    "* `trestbps`: resting blood pressure (in mm Hg on admission to the hospital)\n",
    "* `chol`: serum cholesterol in mg/dl\n",
    "* `fbs`: (fasting blood sugar > 120 mg/dl)  (1 = true; 0 = false)\n",
    "* `restecg`: resting electrocardiographic results (0 = normal; 1 = having ST-T wave abnormality (T wave inversions and/or ST elevation or depression of > 0.05 mV); 2 = showing probable or definite left ventricular hypertrophy by Estes' criteria)\n",
    "* `thalach`: maximum heart rate achieved\n",
    "* `exang`: exercise induced angina (1 = yes; 0 = no)\n",
    "* `oldpeak`: ST depression induced by exercise relative to rest\n",
    "* `slope`: the slope of the peak exercise ST segment (0 = upsloping; 1 = flat; 2 = downsloping)\n",
    "* `ca`: number of major vessels (0-3) coloured by fluoroscopy\n",
    "* `thal`: 3 = normal; 6 = fixed defect; 7 = reversible defect\n",
    "* `present`: diagnosis of heart disease (angiographic disease status) (0 = no; 1 = yes)"
   ]
  },
  {
   "cell_type": "markdown",
   "metadata": {},
   "source": [
    "\n",
    "### Import the dependencies\n",
    "First we need to import the libraries we think will at minimum be required for this project: pandas, numpy and matplotlib.pyplot.\n"
   ]
  },
  {
   "cell_type": "code",
   "execution_count": 312,
   "metadata": {},
   "outputs": [],
   "source": [
    "import pandas as pd\n",
    "import numpy as np\n",
    "import matplotlib.pyplot as plt\n",
    "import seaborn as sns\n",
    "%matplotlib inline"
   ]
  },
  {
   "cell_type": "markdown",
   "metadata": {},
   "source": [
    "### Load and explore the data\n",
    "The heart disease observations are stored in 1 file.\n",
    "1. heart_disease.csv"
   ]
  },
  {
   "cell_type": "code",
   "execution_count": 313,
   "metadata": {},
   "outputs": [],
   "source": [
    "# load files into dataframes\n",
    "heart_df = pd.read_csv(\"data/predictheartdiseaselogreg/heart_disease.csv\")"
   ]
  },
  {
   "cell_type": "markdown",
   "metadata": {},
   "source": [
    "1. Display the first five rows of the dataframe.\n",
    "3. Print out the number of features and observations in the dataset.\n"
   ]
  },
  {
   "cell_type": "code",
   "execution_count": 314,
   "metadata": {},
   "outputs": [
    {
     "data": {
      "text/html": [
       "<div>\n",
       "<style scoped>\n",
       "    .dataframe tbody tr th:only-of-type {\n",
       "        vertical-align: middle;\n",
       "    }\n",
       "\n",
       "    .dataframe tbody tr th {\n",
       "        vertical-align: top;\n",
       "    }\n",
       "\n",
       "    .dataframe thead th {\n",
       "        text-align: right;\n",
       "    }\n",
       "</style>\n",
       "<table border=\"1\" class=\"dataframe\">\n",
       "  <thead>\n",
       "    <tr style=\"text-align: right;\">\n",
       "      <th></th>\n",
       "      <th>Unnamed: 0</th>\n",
       "      <th>age</th>\n",
       "      <th>sex</th>\n",
       "      <th>cp</th>\n",
       "      <th>trestbps</th>\n",
       "      <th>chol</th>\n",
       "      <th>fbs</th>\n",
       "      <th>restecg</th>\n",
       "      <th>thalach</th>\n",
       "      <th>exang</th>\n",
       "      <th>oldpeak</th>\n",
       "      <th>slope</th>\n",
       "      <th>ca</th>\n",
       "      <th>thal</th>\n",
       "      <th>present</th>\n",
       "    </tr>\n",
       "  </thead>\n",
       "  <tbody>\n",
       "    <tr>\n",
       "      <th>0</th>\n",
       "      <td>1</td>\n",
       "      <td>63</td>\n",
       "      <td>1</td>\n",
       "      <td>1</td>\n",
       "      <td>145</td>\n",
       "      <td>233</td>\n",
       "      <td>1</td>\n",
       "      <td>2</td>\n",
       "      <td>150</td>\n",
       "      <td>0</td>\n",
       "      <td>2.3</td>\n",
       "      <td>3</td>\n",
       "      <td>0.0</td>\n",
       "      <td>6.0</td>\n",
       "      <td>0</td>\n",
       "    </tr>\n",
       "    <tr>\n",
       "      <th>1</th>\n",
       "      <td>2</td>\n",
       "      <td>67</td>\n",
       "      <td>1</td>\n",
       "      <td>4</td>\n",
       "      <td>160</td>\n",
       "      <td>286</td>\n",
       "      <td>0</td>\n",
       "      <td>2</td>\n",
       "      <td>108</td>\n",
       "      <td>1</td>\n",
       "      <td>1.5</td>\n",
       "      <td>2</td>\n",
       "      <td>3.0</td>\n",
       "      <td>3.0</td>\n",
       "      <td>1</td>\n",
       "    </tr>\n",
       "    <tr>\n",
       "      <th>2</th>\n",
       "      <td>3</td>\n",
       "      <td>67</td>\n",
       "      <td>1</td>\n",
       "      <td>4</td>\n",
       "      <td>120</td>\n",
       "      <td>229</td>\n",
       "      <td>0</td>\n",
       "      <td>2</td>\n",
       "      <td>129</td>\n",
       "      <td>1</td>\n",
       "      <td>2.6</td>\n",
       "      <td>2</td>\n",
       "      <td>2.0</td>\n",
       "      <td>7.0</td>\n",
       "      <td>1</td>\n",
       "    </tr>\n",
       "    <tr>\n",
       "      <th>3</th>\n",
       "      <td>4</td>\n",
       "      <td>37</td>\n",
       "      <td>1</td>\n",
       "      <td>3</td>\n",
       "      <td>130</td>\n",
       "      <td>250</td>\n",
       "      <td>0</td>\n",
       "      <td>0</td>\n",
       "      <td>187</td>\n",
       "      <td>0</td>\n",
       "      <td>3.5</td>\n",
       "      <td>3</td>\n",
       "      <td>0.0</td>\n",
       "      <td>3.0</td>\n",
       "      <td>0</td>\n",
       "    </tr>\n",
       "    <tr>\n",
       "      <th>4</th>\n",
       "      <td>5</td>\n",
       "      <td>41</td>\n",
       "      <td>0</td>\n",
       "      <td>2</td>\n",
       "      <td>130</td>\n",
       "      <td>204</td>\n",
       "      <td>0</td>\n",
       "      <td>2</td>\n",
       "      <td>172</td>\n",
       "      <td>0</td>\n",
       "      <td>1.4</td>\n",
       "      <td>1</td>\n",
       "      <td>0.0</td>\n",
       "      <td>3.0</td>\n",
       "      <td>0</td>\n",
       "    </tr>\n",
       "  </tbody>\n",
       "</table>\n",
       "</div>"
      ],
      "text/plain": [
       "   Unnamed: 0  age  sex  cp  trestbps  chol  fbs  restecg  thalach  exang  \\\n",
       "0           1   63    1   1       145   233    1        2      150      0   \n",
       "1           2   67    1   4       160   286    0        2      108      1   \n",
       "2           3   67    1   4       120   229    0        2      129      1   \n",
       "3           4   37    1   3       130   250    0        0      187      0   \n",
       "4           5   41    0   2       130   204    0        2      172      0   \n",
       "\n",
       "   oldpeak  slope   ca thal  present  \n",
       "0      2.3      3  0.0  6.0        0  \n",
       "1      1.5      2  3.0  3.0        1  \n",
       "2      2.6      2  2.0  7.0        1  \n",
       "3      3.5      3  0.0  3.0        0  \n",
       "4      1.4      1  0.0  3.0        0  "
      ]
     },
     "execution_count": 314,
     "metadata": {},
     "output_type": "execute_result"
    }
   ],
   "source": [
    "# explore the heart disease data\n",
    "heart_df.head()"
   ]
  },
  {
   "cell_type": "code",
   "execution_count": 315,
   "metadata": {},
   "outputs": [
    {
     "name": "stdout",
     "output_type": "stream",
     "text": [
      "Number of features: 15\n",
      "Number of observations: 303\n"
     ]
    }
   ],
   "source": [
    "print(f\"Number of features: {heart_df.shape[1]}\")\n",
    "print(f\"Number of observations: {heart_df.shape[0]}\")"
   ]
  },
  {
   "cell_type": "markdown",
   "metadata": {},
   "source": [
    "## EDA: Descriptive Statistics <a name=\"eda-descr\"></a>"
   ]
  },
  {
   "cell_type": "code",
   "execution_count": 316,
   "metadata": {},
   "outputs": [
    {
     "data": {
      "text/plain": [
       "Unnamed: 0      int64\n",
       "age             int64\n",
       "sex             int64\n",
       "cp              int64\n",
       "trestbps        int64\n",
       "chol            int64\n",
       "fbs             int64\n",
       "restecg         int64\n",
       "thalach         int64\n",
       "exang           int64\n",
       "oldpeak       float64\n",
       "slope           int64\n",
       "ca             object\n",
       "thal           object\n",
       "present         int64\n",
       "dtype: object"
      ]
     },
     "execution_count": 316,
     "metadata": {},
     "output_type": "execute_result"
    }
   ],
   "source": [
    "# identify the columns' data types\n",
    "heart_df.dtypes"
   ]
  },
  {
   "cell_type": "markdown",
   "metadata": {},
   "source": [
    "Although it appears that the `int64` features would be continuous variables, they can also be cateogorical, e.g. a boolean value indicated by 1 or 0 in the case of `exang`. We can see this when we explore some descriptive statistics below.\n",
    "Also, it could be useful to transform the features `ca`and `thal`into dummy variables later, depending on if we use them for the model.\n",
    "\n",
    "In the documentation of the dataset, it mentions that `ca` and `thal`have missing values. Let's check the value counts."
   ]
  },
  {
   "cell_type": "code",
   "execution_count": 317,
   "metadata": {},
   "outputs": [
    {
     "data": {
      "text/plain": [
       "ca\n",
       "0.0    176\n",
       "1.0     65\n",
       "2.0     38\n",
       "3.0     20\n",
       "?        4\n",
       "Name: count, dtype: int64"
      ]
     },
     "execution_count": 317,
     "metadata": {},
     "output_type": "execute_result"
    }
   ],
   "source": [
    "heart_df['ca'].value_counts()"
   ]
  },
  {
   "cell_type": "code",
   "execution_count": 318,
   "metadata": {},
   "outputs": [
    {
     "data": {
      "text/plain": [
       "thal\n",
       "3.0    166\n",
       "7.0    117\n",
       "6.0     18\n",
       "?        2\n",
       "Name: count, dtype: int64"
      ]
     },
     "execution_count": 318,
     "metadata": {},
     "output_type": "execute_result"
    }
   ],
   "source": [
    "heart_df['thal'].value_counts()"
   ]
  },
  {
   "cell_type": "markdown",
   "metadata": {},
   "source": [
    "We see that there are very few rows containing a '?'. Therefore we can drop them without losing too much data for our purposes."
   ]
  },
  {
   "cell_type": "code",
   "execution_count": 319,
   "metadata": {},
   "outputs": [
    {
     "name": "stdout",
     "output_type": "stream",
     "text": [
      "ca\n",
      "0.0    174\n",
      "1.0     65\n",
      "2.0     38\n",
      "3.0     20\n",
      "Name: count, dtype: int64\n",
      "thal\n",
      "3.0    164\n",
      "7.0    115\n",
      "6.0     18\n",
      "Name: count, dtype: int64\n"
     ]
    }
   ],
   "source": [
    "heart_cleaned_df = heart_df.copy()\n",
    "\n",
    "# drop the rows containing '?'\n",
    "heart_cleaned_df = heart_cleaned_df[heart_cleaned_df['ca'] != '?']\n",
    "heart_cleaned_df = heart_cleaned_df[heart_cleaned_df['thal'] != '?']\n",
    "\n",
    "print(heart_cleaned_df['ca'].value_counts())\n",
    "print(heart_cleaned_df['thal'].value_counts())"
   ]
  },
  {
   "cell_type": "markdown",
   "metadata": {},
   "source": [
    "Now we can convert `ca` and `thal` to integers, as the dataset documentation prescribes. "
   ]
  },
  {
   "cell_type": "code",
   "execution_count": 320,
   "metadata": {},
   "outputs": [
    {
     "data": {
      "text/plain": [
       "Unnamed: 0      int64\n",
       "age             int64\n",
       "sex             int64\n",
       "cp              int64\n",
       "trestbps        int64\n",
       "chol            int64\n",
       "fbs             int64\n",
       "restecg         int64\n",
       "thalach         int64\n",
       "exang           int64\n",
       "oldpeak       float64\n",
       "slope           int64\n",
       "ca              int64\n",
       "thal            int64\n",
       "present         int64\n",
       "dtype: object"
      ]
     },
     "execution_count": 320,
     "metadata": {},
     "output_type": "execute_result"
    }
   ],
   "source": [
    "# data conversion\n",
    "heart_cleaned_df['ca'] = heart_cleaned_df['ca'].astype('float').astype('int')\n",
    "heart_cleaned_df['thal'] = heart_cleaned_df['thal'].astype('float').astype('int')\n",
    "\n",
    "# check\n",
    "heart_cleaned_df.dtypes"
   ]
  },
  {
   "cell_type": "markdown",
   "metadata": {},
   "source": [
    "### Explore and analyze the numerical columns"
   ]
  },
  {
   "cell_type": "code",
   "execution_count": 321,
   "metadata": {},
   "outputs": [
    {
     "data": {
      "text/html": [
       "<div>\n",
       "<style scoped>\n",
       "    .dataframe tbody tr th:only-of-type {\n",
       "        vertical-align: middle;\n",
       "    }\n",
       "\n",
       "    .dataframe tbody tr th {\n",
       "        vertical-align: top;\n",
       "    }\n",
       "\n",
       "    .dataframe thead th {\n",
       "        text-align: right;\n",
       "    }\n",
       "</style>\n",
       "<table border=\"1\" class=\"dataframe\">\n",
       "  <thead>\n",
       "    <tr style=\"text-align: right;\">\n",
       "      <th></th>\n",
       "      <th>Unnamed: 0</th>\n",
       "      <th>age</th>\n",
       "      <th>sex</th>\n",
       "      <th>cp</th>\n",
       "      <th>trestbps</th>\n",
       "      <th>chol</th>\n",
       "      <th>fbs</th>\n",
       "      <th>restecg</th>\n",
       "      <th>thalach</th>\n",
       "      <th>exang</th>\n",
       "      <th>oldpeak</th>\n",
       "      <th>slope</th>\n",
       "      <th>ca</th>\n",
       "      <th>thal</th>\n",
       "      <th>present</th>\n",
       "    </tr>\n",
       "  </thead>\n",
       "  <tbody>\n",
       "    <tr>\n",
       "      <th>count</th>\n",
       "      <td>297.000000</td>\n",
       "      <td>297.000000</td>\n",
       "      <td>297.000000</td>\n",
       "      <td>297.000000</td>\n",
       "      <td>297.000000</td>\n",
       "      <td>297.000000</td>\n",
       "      <td>297.000000</td>\n",
       "      <td>297.000000</td>\n",
       "      <td>297.000000</td>\n",
       "      <td>297.000000</td>\n",
       "      <td>297.000000</td>\n",
       "      <td>297.000000</td>\n",
       "      <td>297.000000</td>\n",
       "      <td>297.000000</td>\n",
       "      <td>297.000000</td>\n",
       "    </tr>\n",
       "    <tr>\n",
       "      <th>mean</th>\n",
       "      <td>150.673401</td>\n",
       "      <td>54.542088</td>\n",
       "      <td>0.676768</td>\n",
       "      <td>3.158249</td>\n",
       "      <td>131.693603</td>\n",
       "      <td>247.350168</td>\n",
       "      <td>0.144781</td>\n",
       "      <td>0.996633</td>\n",
       "      <td>149.599327</td>\n",
       "      <td>0.326599</td>\n",
       "      <td>1.055556</td>\n",
       "      <td>1.602694</td>\n",
       "      <td>0.676768</td>\n",
       "      <td>4.730640</td>\n",
       "      <td>0.461279</td>\n",
       "    </tr>\n",
       "    <tr>\n",
       "      <th>std</th>\n",
       "      <td>87.323283</td>\n",
       "      <td>9.049736</td>\n",
       "      <td>0.468500</td>\n",
       "      <td>0.964859</td>\n",
       "      <td>17.762806</td>\n",
       "      <td>51.997583</td>\n",
       "      <td>0.352474</td>\n",
       "      <td>0.994914</td>\n",
       "      <td>22.941562</td>\n",
       "      <td>0.469761</td>\n",
       "      <td>1.166123</td>\n",
       "      <td>0.618187</td>\n",
       "      <td>0.938965</td>\n",
       "      <td>1.938629</td>\n",
       "      <td>0.499340</td>\n",
       "    </tr>\n",
       "    <tr>\n",
       "      <th>min</th>\n",
       "      <td>1.000000</td>\n",
       "      <td>29.000000</td>\n",
       "      <td>0.000000</td>\n",
       "      <td>1.000000</td>\n",
       "      <td>94.000000</td>\n",
       "      <td>126.000000</td>\n",
       "      <td>0.000000</td>\n",
       "      <td>0.000000</td>\n",
       "      <td>71.000000</td>\n",
       "      <td>0.000000</td>\n",
       "      <td>0.000000</td>\n",
       "      <td>1.000000</td>\n",
       "      <td>0.000000</td>\n",
       "      <td>3.000000</td>\n",
       "      <td>0.000000</td>\n",
       "    </tr>\n",
       "    <tr>\n",
       "      <th>25%</th>\n",
       "      <td>75.000000</td>\n",
       "      <td>48.000000</td>\n",
       "      <td>0.000000</td>\n",
       "      <td>3.000000</td>\n",
       "      <td>120.000000</td>\n",
       "      <td>211.000000</td>\n",
       "      <td>0.000000</td>\n",
       "      <td>0.000000</td>\n",
       "      <td>133.000000</td>\n",
       "      <td>0.000000</td>\n",
       "      <td>0.000000</td>\n",
       "      <td>1.000000</td>\n",
       "      <td>0.000000</td>\n",
       "      <td>3.000000</td>\n",
       "      <td>0.000000</td>\n",
       "    </tr>\n",
       "    <tr>\n",
       "      <th>50%</th>\n",
       "      <td>150.000000</td>\n",
       "      <td>56.000000</td>\n",
       "      <td>1.000000</td>\n",
       "      <td>3.000000</td>\n",
       "      <td>130.000000</td>\n",
       "      <td>243.000000</td>\n",
       "      <td>0.000000</td>\n",
       "      <td>1.000000</td>\n",
       "      <td>153.000000</td>\n",
       "      <td>0.000000</td>\n",
       "      <td>0.800000</td>\n",
       "      <td>2.000000</td>\n",
       "      <td>0.000000</td>\n",
       "      <td>3.000000</td>\n",
       "      <td>0.000000</td>\n",
       "    </tr>\n",
       "    <tr>\n",
       "      <th>75%</th>\n",
       "      <td>226.000000</td>\n",
       "      <td>61.000000</td>\n",
       "      <td>1.000000</td>\n",
       "      <td>4.000000</td>\n",
       "      <td>140.000000</td>\n",
       "      <td>276.000000</td>\n",
       "      <td>0.000000</td>\n",
       "      <td>2.000000</td>\n",
       "      <td>166.000000</td>\n",
       "      <td>1.000000</td>\n",
       "      <td>1.600000</td>\n",
       "      <td>2.000000</td>\n",
       "      <td>1.000000</td>\n",
       "      <td>7.000000</td>\n",
       "      <td>1.000000</td>\n",
       "    </tr>\n",
       "    <tr>\n",
       "      <th>max</th>\n",
       "      <td>302.000000</td>\n",
       "      <td>77.000000</td>\n",
       "      <td>1.000000</td>\n",
       "      <td>4.000000</td>\n",
       "      <td>200.000000</td>\n",
       "      <td>564.000000</td>\n",
       "      <td>1.000000</td>\n",
       "      <td>2.000000</td>\n",
       "      <td>202.000000</td>\n",
       "      <td>1.000000</td>\n",
       "      <td>6.200000</td>\n",
       "      <td>3.000000</td>\n",
       "      <td>3.000000</td>\n",
       "      <td>7.000000</td>\n",
       "      <td>1.000000</td>\n",
       "    </tr>\n",
       "  </tbody>\n",
       "</table>\n",
       "</div>"
      ],
      "text/plain": [
       "       Unnamed: 0         age         sex          cp    trestbps        chol  \\\n",
       "count  297.000000  297.000000  297.000000  297.000000  297.000000  297.000000   \n",
       "mean   150.673401   54.542088    0.676768    3.158249  131.693603  247.350168   \n",
       "std     87.323283    9.049736    0.468500    0.964859   17.762806   51.997583   \n",
       "min      1.000000   29.000000    0.000000    1.000000   94.000000  126.000000   \n",
       "25%     75.000000   48.000000    0.000000    3.000000  120.000000  211.000000   \n",
       "50%    150.000000   56.000000    1.000000    3.000000  130.000000  243.000000   \n",
       "75%    226.000000   61.000000    1.000000    4.000000  140.000000  276.000000   \n",
       "max    302.000000   77.000000    1.000000    4.000000  200.000000  564.000000   \n",
       "\n",
       "              fbs     restecg     thalach       exang     oldpeak       slope  \\\n",
       "count  297.000000  297.000000  297.000000  297.000000  297.000000  297.000000   \n",
       "mean     0.144781    0.996633  149.599327    0.326599    1.055556    1.602694   \n",
       "std      0.352474    0.994914   22.941562    0.469761    1.166123    0.618187   \n",
       "min      0.000000    0.000000   71.000000    0.000000    0.000000    1.000000   \n",
       "25%      0.000000    0.000000  133.000000    0.000000    0.000000    1.000000   \n",
       "50%      0.000000    1.000000  153.000000    0.000000    0.800000    2.000000   \n",
       "75%      0.000000    2.000000  166.000000    1.000000    1.600000    2.000000   \n",
       "max      1.000000    2.000000  202.000000    1.000000    6.200000    3.000000   \n",
       "\n",
       "               ca        thal     present  \n",
       "count  297.000000  297.000000  297.000000  \n",
       "mean     0.676768    4.730640    0.461279  \n",
       "std      0.938965    1.938629    0.499340  \n",
       "min      0.000000    3.000000    0.000000  \n",
       "25%      0.000000    3.000000    0.000000  \n",
       "50%      0.000000    3.000000    0.000000  \n",
       "75%      1.000000    7.000000    1.000000  \n",
       "max      3.000000    7.000000    1.000000  "
      ]
     },
     "execution_count": 321,
     "metadata": {},
     "output_type": "execute_result"
    }
   ],
   "source": [
    "# Display the descriptive statistics for the DataFrame.\n",
    "heart_cleaned_df.describe()"
   ]
  },
  {
   "cell_type": "code",
   "execution_count": 322,
   "metadata": {},
   "outputs": [
    {
     "data": {
      "text/plain": [
       "Unnamed: 0    0\n",
       "age           0\n",
       "sex           0\n",
       "cp            0\n",
       "trestbps      0\n",
       "chol          0\n",
       "fbs           0\n",
       "restecg       0\n",
       "thalach       0\n",
       "exang         0\n",
       "oldpeak       0\n",
       "slope         0\n",
       "ca            0\n",
       "thal          0\n",
       "present       0\n",
       "dtype: int64"
      ]
     },
     "execution_count": 322,
     "metadata": {},
     "output_type": "execute_result"
    }
   ],
   "source": [
    "# Check for empty values\n",
    "heart_cleaned_df.isnull().sum()"
   ]
  },
  {
   "cell_type": "markdown",
   "metadata": {},
   "source": [
    "### Observations\n",
    "- Each row in the dataset represents one patient\n",
    "- The first column (appearring as \"Unnamed\") is an index from the source file. This can be removed in the next step.\n",
    "- The average age is 54\n",
    "- There are no empty values"
   ]
  },
  {
   "cell_type": "code",
   "execution_count": 323,
   "metadata": {},
   "outputs": [
    {
     "data": {
      "text/plain": [
       "Index(['age', 'sex', 'cp', 'trestbps', 'chol', 'fbs', 'restecg', 'thalach',\n",
       "       'exang', 'oldpeak', 'slope', 'ca', 'thal', 'present'],\n",
       "      dtype='object')"
      ]
     },
     "execution_count": 323,
     "metadata": {},
     "output_type": "execute_result"
    }
   ],
   "source": [
    "# remove the first column of the dataset\n",
    "heart_cleaned_df = heart_cleaned_df.iloc[:, 1:]\n",
    "heart_cleaned_df.columns"
   ]
  },
  {
   "cell_type": "markdown",
   "metadata": {},
   "source": [
    "## EDA: Visualizations and more analysis <a name=\"eda-vis\"></a>"
   ]
  },
  {
   "cell_type": "markdown",
   "metadata": {},
   "source": [
    "#### Potential predictor variables and their relationship to the outcome (`present`)\n",
    "In this section, we will visualise the distribution of the predictor variables against the outcome."
   ]
  },
  {
   "cell_type": "code",
   "execution_count": 324,
   "metadata": {},
   "outputs": [
    {
     "data": {
      "image/png": "[encoded data removed]",
      "text/plain": [
       "<Figure size 2200x2200 with 13 Axes>"
      ]
     },
     "metadata": {},
     "output_type": "display_data"
    }
   ],
   "source": [
    "# List of predictor variables columns\n",
    "pred_vars = ['age', 'sex', 'cp', 'trestbps', 'chol', 'fbs', 'restecg', 'thalach', 'exang', 'oldpeak', 'slope', 'ca', 'thal' ]\n",
    "\n",
    "# Create a subplot with appropriate size\n",
    "fig = plt.figure(figsize=(22, 22))\n",
    "fig.subplots_adjust(hspace=2.0)\n",
    "\n",
    "# Loop through each column and create a bar chart\n",
    "for i, column in enumerate(pred_vars):\n",
    "    ax = fig.add_subplot(5, 3, i+1)\n",
    "    # all patients\n",
    "    ax.hist(heart_cleaned_df[column])\n",
    "    # patients with heart disease\n",
    "    ax.hist(heart_cleaned_df[heart_cleaned_df['present'] == 1][column])\n",
    "    ax.set_title(f'{column.title()} Distribution')\n",
    "    ax.yaxis.grid(True)\n",
    "\n",
    "plt.tight_layout()\n",
    "fig.suptitle('Distribution of all patients vs. those patients with heart disease', y=1.02, fontsize=20)\n",
    "\n",
    "plt.show()"
   ]
  },
  {
   "cell_type": "markdown",
   "metadata": {},
   "source": [
    "When looking at the above histograms, depicting the distribution of the predictor variables in relation to the outcome, the following seem to be good candidates for our model.\n",
    " * `age`\n",
    " * `sex`\n",
    " * `cp`\n",
    " * `trestbps`\n",
    " * `chol`\n",
    " * `thalach`\n",
    " * `exang`\n",
    " * `oldpeak`\n",
    " * `slope`\n",
    " * `ca` \n",
    " * `thal`\n"
   ]
  },
  {
   "cell_type": "markdown",
   "metadata": {},
   "source": [
    "#### Split-apply-combine\n",
    "Let's look at which of the continuous variable predictors are meaningful different when comparing the cases and non-cases (i.e. where presences is or not). We do this using the *split-apply-combine* concept."
   ]
  },
  {
   "cell_type": "code",
   "execution_count": 325,
   "metadata": {},
   "outputs": [
    {
     "data": {
      "text/html": [
       "<div>\n",
       "<style scoped>\n",
       "    .dataframe tbody tr th:only-of-type {\n",
       "        vertical-align: middle;\n",
       "    }\n",
       "\n",
       "    .dataframe tbody tr th {\n",
       "        vertical-align: top;\n",
       "    }\n",
       "\n",
       "    .dataframe thead th {\n",
       "        text-align: right;\n",
       "    }\n",
       "</style>\n",
       "<table border=\"1\" class=\"dataframe\">\n",
       "  <thead>\n",
       "    <tr style=\"text-align: right;\">\n",
       "      <th></th>\n",
       "      <th>age</th>\n",
       "      <th>trestbps</th>\n",
       "      <th>chol</th>\n",
       "      <th>thalach</th>\n",
       "      <th>oldpeak</th>\n",
       "    </tr>\n",
       "    <tr>\n",
       "      <th>present</th>\n",
       "      <th></th>\n",
       "      <th></th>\n",
       "      <th></th>\n",
       "      <th></th>\n",
       "      <th></th>\n",
       "    </tr>\n",
       "  </thead>\n",
       "  <tbody>\n",
       "    <tr>\n",
       "      <th>0</th>\n",
       "      <td>52.643750</td>\n",
       "      <td>129.175000</td>\n",
       "      <td>243.493750</td>\n",
       "      <td>158.581250</td>\n",
       "      <td>0.598750</td>\n",
       "    </tr>\n",
       "    <tr>\n",
       "      <th>1</th>\n",
       "      <td>56.759124</td>\n",
       "      <td>134.635036</td>\n",
       "      <td>251.854015</td>\n",
       "      <td>139.109489</td>\n",
       "      <td>1.589051</td>\n",
       "    </tr>\n",
       "  </tbody>\n",
       "</table>\n",
       "</div>"
      ],
      "text/plain": [
       "               age    trestbps        chol     thalach   oldpeak\n",
       "present                                                         \n",
       "0        52.643750  129.175000  243.493750  158.581250  0.598750\n",
       "1        56.759124  134.635036  251.854015  139.109489  1.589051"
      ]
     },
     "execution_count": 325,
     "metadata": {},
     "output_type": "execute_result"
    }
   ],
   "source": [
    "summary = heart_cleaned_df.groupby('present').agg(\n",
    "    {\n",
    "        'age': 'mean',\n",
    "        'trestbps': 'mean',\n",
    "        'chol': 'mean',\n",
    "        'thalach': 'mean',\n",
    "        'oldpeak': 'mean'\n",
    "    }\n",
    ")\n",
    "summary"
   ]
  },
  {
   "cell_type": "markdown",
   "metadata": {},
   "source": [
    "Above, we see differences in the cases and non-case for the continuous variable predictors, but which  are really significant? If we look at percentage difference:"
   ]
  },
  {
   "cell_type": "code",
   "execution_count": 326,
   "metadata": {},
   "outputs": [
    {
     "data": {
      "text/html": [
       "<div>\n",
       "<style scoped>\n",
       "    .dataframe tbody tr th:only-of-type {\n",
       "        vertical-align: middle;\n",
       "    }\n",
       "\n",
       "    .dataframe tbody tr th {\n",
       "        vertical-align: top;\n",
       "    }\n",
       "\n",
       "    .dataframe thead th {\n",
       "        text-align: right;\n",
       "    }\n",
       "</style>\n",
       "<table border=\"1\" class=\"dataframe\">\n",
       "  <thead>\n",
       "    <tr style=\"text-align: right;\">\n",
       "      <th></th>\n",
       "      <th>age</th>\n",
       "      <th>trestbps</th>\n",
       "      <th>chol</th>\n",
       "      <th>thalach</th>\n",
       "      <th>oldpeak</th>\n",
       "    </tr>\n",
       "    <tr>\n",
       "      <th>present</th>\n",
       "      <th></th>\n",
       "      <th></th>\n",
       "      <th></th>\n",
       "      <th></th>\n",
       "      <th></th>\n",
       "    </tr>\n",
       "  </thead>\n",
       "  <tbody>\n",
       "    <tr>\n",
       "      <th>0</th>\n",
       "      <td>52.643750</td>\n",
       "      <td>129.175000</td>\n",
       "      <td>243.493750</td>\n",
       "      <td>158.581250</td>\n",
       "      <td>0.598750</td>\n",
       "    </tr>\n",
       "    <tr>\n",
       "      <th>1</th>\n",
       "      <td>56.759124</td>\n",
       "      <td>134.635036</td>\n",
       "      <td>251.854015</td>\n",
       "      <td>139.109489</td>\n",
       "      <td>1.589051</td>\n",
       "    </tr>\n",
       "    <tr>\n",
       "      <th>percentage_diff</th>\n",
       "      <td>7.817403</td>\n",
       "      <td>4.226852</td>\n",
       "      <td>3.433462</td>\n",
       "      <td>-12.278728</td>\n",
       "      <td>165.394755</td>\n",
       "    </tr>\n",
       "  </tbody>\n",
       "</table>\n",
       "</div>"
      ],
      "text/plain": [
       "                       age    trestbps        chol     thalach     oldpeak\n",
       "present                                                                   \n",
       "0                52.643750  129.175000  243.493750  158.581250    0.598750\n",
       "1                56.759124  134.635036  251.854015  139.109489    1.589051\n",
       "percentage_diff   7.817403    4.226852    3.433462  -12.278728  165.394755"
      ]
     },
     "execution_count": 326,
     "metadata": {},
     "output_type": "execute_result"
    }
   ],
   "source": [
    "percentage_diff = (summary.loc[1] - summary.loc[0]) / summary.loc[0] * 100\n",
    "summary.loc['percentage_diff'] = percentage_diff\n",
    "summary"
   ]
  },
  {
   "cell_type": "markdown",
   "metadata": {},
   "source": [
    "We can split the variables in difference higher and lower than +/-5%, in which case the higher difference bucket of variables would contain:\n",
    "* `age`\n",
    "* `thalach` (maximum heart rate achieved)\n",
    "* `oldpeak` (ST depression induced by exercise relative to rest)\n",
    "\n",
    "This suggests that the range and distribution of the predictor variable for heart-disease patients is significantly different from non-heart-disease patients, i.e. that they can be useful predictors to include in a model because it distinguishes cases from non-cases.\n",
    "\n",
    "Can we go with only these 3 predictor variables? Without much domain knowledge, I don't know whether for example whether a 3% difference in `chol` (cholesterol) is significant enough to make it a good predictor."
   ]
  },
  {
   "cell_type": "markdown",
   "metadata": {},
   "source": [
    "#### Correlations\n",
    "Let's do one more check on the correlation of the variables with the outcome. We'll first provide dummy variables for the categorical variables, then visualize the correlations using a heatmap."
   ]
  },
  {
   "cell_type": "code",
   "execution_count": 327,
   "metadata": {},
   "outputs": [
    {
     "data": {
      "text/html": [
       "<div>\n",
       "<style scoped>\n",
       "    .dataframe tbody tr th:only-of-type {\n",
       "        vertical-align: middle;\n",
       "    }\n",
       "\n",
       "    .dataframe tbody tr th {\n",
       "        vertical-align: top;\n",
       "    }\n",
       "\n",
       "    .dataframe thead th {\n",
       "        text-align: right;\n",
       "    }\n",
       "</style>\n",
       "<table border=\"1\" class=\"dataframe\">\n",
       "  <thead>\n",
       "    <tr style=\"text-align: right;\">\n",
       "      <th></th>\n",
       "      <th>age</th>\n",
       "      <th>trestbps</th>\n",
       "      <th>chol</th>\n",
       "      <th>thalach</th>\n",
       "      <th>oldpeak</th>\n",
       "      <th>present</th>\n",
       "      <th>sex_0</th>\n",
       "      <th>sex_1</th>\n",
       "      <th>cp_1</th>\n",
       "      <th>cp_2</th>\n",
       "      <th>...</th>\n",
       "      <th>slope_1</th>\n",
       "      <th>slope_2</th>\n",
       "      <th>slope_3</th>\n",
       "      <th>ca_0</th>\n",
       "      <th>ca_1</th>\n",
       "      <th>ca_2</th>\n",
       "      <th>ca_3</th>\n",
       "      <th>thal_3</th>\n",
       "      <th>thal_6</th>\n",
       "      <th>thal_7</th>\n",
       "    </tr>\n",
       "  </thead>\n",
       "  <tbody>\n",
       "    <tr>\n",
       "      <th>0</th>\n",
       "      <td>63</td>\n",
       "      <td>145</td>\n",
       "      <td>233</td>\n",
       "      <td>150</td>\n",
       "      <td>2.3</td>\n",
       "      <td>0</td>\n",
       "      <td>False</td>\n",
       "      <td>True</td>\n",
       "      <td>True</td>\n",
       "      <td>False</td>\n",
       "      <td>...</td>\n",
       "      <td>False</td>\n",
       "      <td>False</td>\n",
       "      <td>True</td>\n",
       "      <td>True</td>\n",
       "      <td>False</td>\n",
       "      <td>False</td>\n",
       "      <td>False</td>\n",
       "      <td>False</td>\n",
       "      <td>True</td>\n",
       "      <td>False</td>\n",
       "    </tr>\n",
       "    <tr>\n",
       "      <th>1</th>\n",
       "      <td>67</td>\n",
       "      <td>160</td>\n",
       "      <td>286</td>\n",
       "      <td>108</td>\n",
       "      <td>1.5</td>\n",
       "      <td>1</td>\n",
       "      <td>False</td>\n",
       "      <td>True</td>\n",
       "      <td>False</td>\n",
       "      <td>False</td>\n",
       "      <td>...</td>\n",
       "      <td>False</td>\n",
       "      <td>True</td>\n",
       "      <td>False</td>\n",
       "      <td>False</td>\n",
       "      <td>False</td>\n",
       "      <td>False</td>\n",
       "      <td>True</td>\n",
       "      <td>True</td>\n",
       "      <td>False</td>\n",
       "      <td>False</td>\n",
       "    </tr>\n",
       "    <tr>\n",
       "      <th>2</th>\n",
       "      <td>67</td>\n",
       "      <td>120</td>\n",
       "      <td>229</td>\n",
       "      <td>129</td>\n",
       "      <td>2.6</td>\n",
       "      <td>1</td>\n",
       "      <td>False</td>\n",
       "      <td>True</td>\n",
       "      <td>False</td>\n",
       "      <td>False</td>\n",
       "      <td>...</td>\n",
       "      <td>False</td>\n",
       "      <td>True</td>\n",
       "      <td>False</td>\n",
       "      <td>False</td>\n",
       "      <td>False</td>\n",
       "      <td>True</td>\n",
       "      <td>False</td>\n",
       "      <td>False</td>\n",
       "      <td>False</td>\n",
       "      <td>True</td>\n",
       "    </tr>\n",
       "    <tr>\n",
       "      <th>3</th>\n",
       "      <td>37</td>\n",
       "      <td>130</td>\n",
       "      <td>250</td>\n",
       "      <td>187</td>\n",
       "      <td>3.5</td>\n",
       "      <td>0</td>\n",
       "      <td>False</td>\n",
       "      <td>True</td>\n",
       "      <td>False</td>\n",
       "      <td>False</td>\n",
       "      <td>...</td>\n",
       "      <td>False</td>\n",
       "      <td>False</td>\n",
       "      <td>True</td>\n",
       "      <td>True</td>\n",
       "      <td>False</td>\n",
       "      <td>False</td>\n",
       "      <td>False</td>\n",
       "      <td>True</td>\n",
       "      <td>False</td>\n",
       "      <td>False</td>\n",
       "    </tr>\n",
       "    <tr>\n",
       "      <th>4</th>\n",
       "      <td>41</td>\n",
       "      <td>130</td>\n",
       "      <td>204</td>\n",
       "      <td>172</td>\n",
       "      <td>1.4</td>\n",
       "      <td>0</td>\n",
       "      <td>True</td>\n",
       "      <td>False</td>\n",
       "      <td>False</td>\n",
       "      <td>True</td>\n",
       "      <td>...</td>\n",
       "      <td>True</td>\n",
       "      <td>False</td>\n",
       "      <td>False</td>\n",
       "      <td>True</td>\n",
       "      <td>False</td>\n",
       "      <td>False</td>\n",
       "      <td>False</td>\n",
       "      <td>True</td>\n",
       "      <td>False</td>\n",
       "      <td>False</td>\n",
       "    </tr>\n",
       "  </tbody>\n",
       "</table>\n",
       "<p>5 rows × 29 columns</p>\n",
       "</div>"
      ],
      "text/plain": [
       "   age  trestbps  chol  thalach  oldpeak  present  sex_0  sex_1   cp_1   cp_2  \\\n",
       "0   63       145   233      150      2.3        0  False   True   True  False   \n",
       "1   67       160   286      108      1.5        1  False   True  False  False   \n",
       "2   67       120   229      129      2.6        1  False   True  False  False   \n",
       "3   37       130   250      187      3.5        0  False   True  False  False   \n",
       "4   41       130   204      172      1.4        0   True  False  False   True   \n",
       "\n",
       "   ...  slope_1  slope_2  slope_3   ca_0   ca_1   ca_2   ca_3  thal_3  thal_6  \\\n",
       "0  ...    False    False     True   True  False  False  False   False    True   \n",
       "1  ...    False     True    False  False  False  False   True    True   False   \n",
       "2  ...    False     True    False  False  False   True  False   False   False   \n",
       "3  ...    False    False     True   True  False  False  False    True   False   \n",
       "4  ...     True    False    False   True  False  False  False    True   False   \n",
       "\n",
       "   thal_7  \n",
       "0   False  \n",
       "1   False  \n",
       "2    True  \n",
       "3   False  \n",
       "4   False  \n",
       "\n",
       "[5 rows x 29 columns]"
      ]
     },
     "execution_count": 327,
     "metadata": {},
     "output_type": "execute_result"
    }
   ],
   "source": [
    "heart_dummies_df = heart_cleaned_df.copy()\n",
    "\n",
    "# convert categorical variables to string as pre-requisite for dummy variables\n",
    "conv_cat_vars = ['sex', 'cp', 'fbs', 'restecg', 'exang', 'slope', 'ca', 'thal']\n",
    "\n",
    "for var in conv_cat_vars:\n",
    "    heart_dummies_df[var] = heart_dummies_df[var].astype(str)\n",
    "\n",
    "# create dummy variables and preview the first 5 rows\n",
    "heart_dummies_df = pd.get_dummies(heart_dummies_df)\n",
    "heart_dummies_df.head()"
   ]
  },
  {
   "cell_type": "markdown",
   "metadata": {},
   "source": [
    "To identify which features are reasonably correlated to HeartDisease, plot a Pearson's correlation heat map."
   ]
  },
  {
   "cell_type": "code",
   "execution_count": 328,
   "metadata": {},
   "outputs": [
    {
     "data": {
      "image/png": "[encoded data removed]",
      "text/plain": [
       "<Figure size 1400x200 with 2 Axes>"
      ]
     },
     "metadata": {},
     "output_type": "display_data"
    }
   ],
   "source": [
    "# Calculate Pearson's correlation coefficient\n",
    "corr_matrix = heart_dummies_df.corr()\n",
    "\n",
    "# Generate a heatmap\n",
    "fig, ax = plt.subplots(figsize=(14,2))\n",
    "sns.heatmap(round(corr_matrix, 2)[corr_matrix.abs() > 0.3].loc[['present']], annot=True, cmap='coolwarm', fmt=\".2f\", ax=ax)\n",
    "plt.tight_layout()\n",
    "plt.show()"
   ]
  },
  {
   "cell_type": "markdown",
   "metadata": {},
   "source": [
    "The above heatmap provides some interesting correlations:\n",
    "- `cp_4` (chest pain type = asymptomatic) and `thal_3`(Thalassemia = normal) have the strongest positive and negative correlations respectively, with values of 0.51 and -0.52 respectively.\n",
    "- `thal_7` (Thalassemia = reversible defect) and `ca_0` (number of major vessels) are next with a medium positive and negative correlations respectively, with values of 0.48 and -0.48 respectively. \n",
    "- `exang_0` and `exang_1` (exercise induced angina no & yes), `slope_1`, `slope_2`, `oldpeak` (ST depression induced by exercise relative to rest) and `thalach`(maximum heart rate achieved) have lower correlations of around 0.4 / -0.4\n",
    "- `cp_3` (chest pain type = non-anginal pain) has the weakest correlation of all the variables which have a correlation with the outcome with -0-31.\n",
    "\n",
    "There are a few variables which seemed good predictors when we analyzed the distributions, like `age`, `sex`, `chol` and `trestbps`, but are not showing up with any correlation. Perhaps there are some good medical explanation for these, but for now we exclude them.\n",
    "\n",
    "Before making the final feature selection, we could present these findings so far to a specialist. For now, we go with what we found out during the EDA."
   ]
  },
  {
   "cell_type": "markdown",
   "metadata": {},
   "source": [
    "## Feature Selection <a name=\"feat-selec\"></a>"
   ]
  },
  {
   "cell_type": "markdown",
   "metadata": {},
   "source": [
    "We select 7 features which make most sense based on the EDA done before:\n",
    "- `cp`\n",
    "- `thal`\n",
    "- `ca`\n",
    "- `exang`\n",
    "- `slope`\n",
    "- `oldpeak`\n",
    "- `thalach`"
   ]
  },
  {
   "cell_type": "code",
   "execution_count": 329,
   "metadata": {},
   "outputs": [
    {
     "name": "stdout",
     "output_type": "stream",
     "text": [
      "<class 'pandas.core.frame.DataFrame'>\n",
      "Index: 297 entries, 0 to 301\n",
      "Data columns (total 19 columns):\n",
      " #   Column   Non-Null Count  Dtype  \n",
      "---  ------   --------------  -----  \n",
      " 0   thalach  297 non-null    int64  \n",
      " 1   oldpeak  297 non-null    float64\n",
      " 2   present  297 non-null    int64  \n",
      " 3   cp_1     297 non-null    bool   \n",
      " 4   cp_2     297 non-null    bool   \n",
      " 5   cp_3     297 non-null    bool   \n",
      " 6   cp_4     297 non-null    bool   \n",
      " 7   exang_0  297 non-null    bool   \n",
      " 8   exang_1  297 non-null    bool   \n",
      " 9   slope_1  297 non-null    bool   \n",
      " 10  slope_2  297 non-null    bool   \n",
      " 11  slope_3  297 non-null    bool   \n",
      " 12  ca_0     297 non-null    bool   \n",
      " 13  ca_1     297 non-null    bool   \n",
      " 14  ca_2     297 non-null    bool   \n",
      " 15  ca_3     297 non-null    bool   \n",
      " 16  thal_3   297 non-null    bool   \n",
      " 17  thal_6   297 non-null    bool   \n",
      " 18  thal_7   297 non-null    bool   \n",
      "dtypes: bool(16), float64(1), int64(2)\n",
      "memory usage: 13.9 KB\n"
     ]
    }
   ],
   "source": [
    "heart_features_df = heart_dummies_df.copy()\n",
    "\n",
    "# only keep columns which have the prefixes of our selected features and the outcome\n",
    "prefs_to_keep = ['cp', 'thal','ca','exang','slope','oldpeak','thalach', 'present']\n",
    "cols_to_keep = [col for col in heart_features_df.columns if any(col.startswith(prefix) for prefix in prefs_to_keep)]\n",
    "heart_features_df = heart_features_df[cols_to_keep]\n",
    "heart_features_df.info()"
   ]
  },
  {
   "cell_type": "markdown",
   "metadata": {},
   "source": [
    "## Dividing the Data <a name=\"div-data\"></a>"
   ]
  },
  {
   "cell_type": "markdown",
   "metadata": {},
   "source": [
    "Next, we will create train and test data for our model."
   ]
  },
  {
   "cell_type": "code",
   "execution_count": 330,
   "metadata": {},
   "outputs": [
    {
     "name": "stdout",
     "output_type": "stream",
     "text": [
      "present\n",
      "0    127\n",
      "1    110\n",
      "Name: count, dtype: int64\n",
      "present\n",
      "0    33\n",
      "1    27\n",
      "Name: count, dtype: int64\n",
      "<class 'pandas.core.frame.DataFrame'>\n",
      "Index: 237 entries, 8 to 279\n",
      "Data columns (total 18 columns):\n",
      " #   Column   Non-Null Count  Dtype  \n",
      "---  ------   --------------  -----  \n",
      " 0   thalach  237 non-null    int64  \n",
      " 1   oldpeak  237 non-null    float64\n",
      " 2   cp_1     237 non-null    int64  \n",
      " 3   cp_2     237 non-null    int64  \n",
      " 4   cp_3     237 non-null    int64  \n",
      " 5   cp_4     237 non-null    int64  \n",
      " 6   exang_0  237 non-null    int64  \n",
      " 7   exang_1  237 non-null    int64  \n",
      " 8   slope_1  237 non-null    int64  \n",
      " 9   slope_2  237 non-null    int64  \n",
      " 10  slope_3  237 non-null    int64  \n",
      " 11  ca_0     237 non-null    int64  \n",
      " 12  ca_1     237 non-null    int64  \n",
      " 13  ca_2     237 non-null    int64  \n",
      " 14  ca_3     237 non-null    int64  \n",
      " 15  thal_3   237 non-null    int64  \n",
      " 16  thal_6   237 non-null    int64  \n",
      " 17  thal_7   237 non-null    int64  \n",
      "dtypes: float64(1), int64(17)\n",
      "memory usage: 35.2 KB\n"
     ]
    }
   ],
   "source": [
    "from sklearn.model_selection import train_test_split\n",
    "\n",
    "heart_final_df = heart_features_df.copy()\n",
    "\n",
    "# convert bool columns to int\n",
    "heart_final_df[heart_final_df.select_dtypes('bool').columns] = heart_final_df.select_dtypes('bool').astype(int)\n",
    "\n",
    "# split the dataset into training and test sets\n",
    "X = heart_final_df.drop(['present'], axis=1)\n",
    "y = heart_final_df[\"present\"]\n",
    "X_train, X_test, y_train, y_test = train_test_split(X, y, test_size = 0.2, random_state = 18)\n",
    "\n",
    "# check datasets have both cases and non-cases\n",
    "print(y_train.value_counts())\n",
    "print(y_test.value_counts())\n",
    "\n",
    "X_train.info()"
   ]
  },
  {
   "cell_type": "markdown",
   "metadata": {},
   "source": [
    "There are cases & non-cases in the train and test datasets."
   ]
  },
  {
   "cell_type": "markdown",
   "metadata": {},
   "source": [
    "## Building the Model <a name=\"build-model\"></a>"
   ]
  },
  {
   "cell_type": "markdown",
   "metadata": {},
   "source": [
    "Let's build the classification model and do some initial assessments."
   ]
  },
  {
   "cell_type": "code",
   "execution_count": 331,
   "metadata": {},
   "outputs": [],
   "source": [
    "from sklearn.linear_model import LogisticRegression\n",
    "from sklearn.metrics import accuracy_score\n",
    "\n",
    "model = LogisticRegression(max_iter=300) # limit max_iter otherwise we get convergence warning\n",
    "model.fit(X_train, y_train)\n",
    "y_pred = model.predict(X_train)"
   ]
  },
  {
   "cell_type": "code",
   "execution_count": 332,
   "metadata": {},
   "outputs": [
    {
     "name": "stdout",
     "output_type": "stream",
     "text": [
      "Accuracy score for the train model: 87.3%\n"
     ]
    }
   ],
   "source": [
    "# first accuracy check\n",
    "train_accuracy = accuracy_score(y_train, y_pred) \n",
    "print(f\"Accuracy score for the train model: {train_accuracy*100:.1f}%\")"
   ]
  },
  {
   "cell_type": "markdown",
   "metadata": {},
   "source": [
    "#### Evaluating the model\n",
    "A first check on the accuracy of this model based on train data gives a good score of 87%. Note: the doctors should probably give a final say whether 87 is good enough for such a critical topic. \n",
    "\n",
    "However, this score is based on train data which could be overly optimistic, and somparing with the results on test data would be more interesting (which we'll look at later).\n",
    "\n",
    "In addition to using the built-in method to calculate the accuracy, let's manually calculate the accuracy, sensitivity and specificity."
   ]
  },
  {
   "cell_type": "code",
   "execution_count": 333,
   "metadata": {},
   "outputs": [],
   "source": [
    "# define a function to be used for calculating the model evaluation metrics\n",
    "def eval_metrics(y, y_pred, source):\n",
    "    correct_predictions = sum(y == y_pred)\n",
    "    total_predictions = len(y_pred)\n",
    "\n",
    "    tp = sum((y == 1) & (y_pred == 1))\n",
    "    fn = sum((y == 1) & (y_pred == 0))\n",
    "    tn = sum((y == 0) & (y_pred == 0))\n",
    "    fp = sum((y == 0) & (y_pred == 1))\n",
    "    accuracy = correct_predictions / total_predictions\n",
    "    sensitivity = tp / (tp + fn)\n",
    "    specificity = tn / (tn + fp)\n",
    "\n",
    "    print(f\"Accuracy for the {source} model: {accuracy*100:.1f}%\")\n",
    "    print(f\"Sensitivity for the {source} model: {sensitivity*100:.1f}%\")\n",
    "    print(f\"Specificity for the {source} model: {specificity*100:.1f}%\")"
   ]
  },
  {
   "cell_type": "code",
   "execution_count": 334,
   "metadata": {},
   "outputs": [
    {
     "name": "stdout",
     "output_type": "stream",
     "text": [
      "Accuracy for the train model: 87.3%\n",
      "Sensitivity for the train model: 84.5%\n",
      "Specificity for the train model: 89.8%\n"
     ]
    }
   ],
   "source": [
    "# Run the function to display the model evaluation metrics\n",
    "eval_metrics(y_train, y_pred, 'train')"
   ]
  },
  {
   "cell_type": "markdown",
   "metadata": {},
   "source": [
    "Of the latter 2 metrics, in my opinion, doctors would not only need to focus on a **good sensitivity score** (85%), but also a **good specificity score** (90%). \n",
    "\n",
    "**Sensitivity** measures the ability of the model to correctly identify true positives and *more importantly*, false negatives. It is extremely important that the number of undetected cases (false negatives) of this life-threatening disease is minimized for patients. \n",
    "\n",
    "For **Specificity**, is also important but generally considered as less critical than sensitivity in life-threatening disease, as false positives do not lead to missed diasnoses of the disease.\n",
    "\n",
    "From the train model, although the more important sensitivity metric is lower than the specificity, there is a good balance of the two metrics with a difference of not more than 5%. "
   ]
  },
  {
   "cell_type": "markdown",
   "metadata": {},
   "source": [
    "#### Confusion matrix\n",
    "We could also make use of a confusion matrix to visualize how the predicted values compare to the actual values. Although not required in this project, it could provide a quick visual comparison of different models."
   ]
  },
  {
   "cell_type": "code",
   "execution_count": 335,
   "metadata": {},
   "outputs": [],
   "source": [
    "from sklearn.metrics import confusion_matrix\n",
    "import seaborn as sns\n",
    "\n",
    "def plot_confusion_matrix(y_test, y_pred):\n",
    "\n",
    "    conf_matrix = confusion_matrix(y_test, y_pred)\n",
    "\n",
    "    plt.figure(figsize=(8, 6))\n",
    "    sns.heatmap(conf_matrix, annot=True, fmt='d', cmap='Blues', cbar=False,\n",
    "                xticklabels=['Present = 0', 'Present = 1'],\n",
    "                yticklabels=['Present = 0', 'Present = 1'])\n",
    "    plt.xlabel('Predicted Outcome')\n",
    "    plt.ylabel('Actual Outcome')\n",
    "    plt.title('Confusion Matrix')\n",
    "    plt.show()"
   ]
  },
  {
   "cell_type": "code",
   "execution_count": 336,
   "metadata": {},
   "outputs": [
    {
     "data": {
      "image/png": "[encoded data removed]",
      "text/plain": [
       "<Figure size 800x600 with 1 Axes>"
      ]
     },
     "metadata": {},
     "output_type": "display_data"
    }
   ],
   "source": [
    "plot_confusion_matrix(y_train, y_pred)"
   ]
  },
  {
   "cell_type": "markdown",
   "metadata": {},
   "source": [
    "In this case, the train model has 17 false negatives (lower right quadrant), which could be of concerns to the doctors. "
   ]
  },
  {
   "cell_type": "markdown",
   "metadata": {},
   "source": [
    "## Interpreting the Intercept <a name=\"interpret\"></a>\n",
    "Next, we'll examine the coefficients of the logistic regression model on both the log-odds and odds scales. "
   ]
  },
  {
   "cell_type": "markdown",
   "metadata": {},
   "source": [
    "In looking at the coefficients, we measure them based on the log-odds and the odds ratio, with the latter being more useful. \n",
    "\n",
    "The odds ratio are better interpretable as the indicate better of what is more likely: heart disease present or not. Odds of more than 1 suggests the probability of heart disease presence is greater than no presence; if the odds are less than 1, it suggests the opposite conclusion. "
   ]
  },
  {
   "cell_type": "code",
   "execution_count": 337,
   "metadata": {},
   "outputs": [
    {
     "data": {
      "text/html": [
       "<div>\n",
       "<style scoped>\n",
       "    .dataframe tbody tr th:only-of-type {\n",
       "        vertical-align: middle;\n",
       "    }\n",
       "\n",
       "    .dataframe tbody tr th {\n",
       "        vertical-align: top;\n",
       "    }\n",
       "\n",
       "    .dataframe thead th {\n",
       "        text-align: right;\n",
       "    }\n",
       "</style>\n",
       "<table border=\"1\" class=\"dataframe\">\n",
       "  <thead>\n",
       "    <tr style=\"text-align: right;\">\n",
       "      <th></th>\n",
       "      <th>Log Odds</th>\n",
       "      <th>Odds Ratio</th>\n",
       "    </tr>\n",
       "  </thead>\n",
       "  <tbody>\n",
       "    <tr>\n",
       "      <th>cp_4</th>\n",
       "      <td>0.973370</td>\n",
       "      <td>2.646849</td>\n",
       "    </tr>\n",
       "    <tr>\n",
       "      <th>thal_7</th>\n",
       "      <td>0.945177</td>\n",
       "      <td>2.573268</td>\n",
       "    </tr>\n",
       "    <tr>\n",
       "      <th>ca_2</th>\n",
       "      <td>0.902078</td>\n",
       "      <td>2.464719</td>\n",
       "    </tr>\n",
       "    <tr>\n",
       "      <th>slope_2</th>\n",
       "      <td>0.657334</td>\n",
       "      <td>1.929641</td>\n",
       "    </tr>\n",
       "    <tr>\n",
       "      <th>oldpeak</th>\n",
       "      <td>0.609152</td>\n",
       "      <td>1.838872</td>\n",
       "    </tr>\n",
       "    <tr>\n",
       "      <th>ca_1</th>\n",
       "      <td>0.434423</td>\n",
       "      <td>1.544072</td>\n",
       "    </tr>\n",
       "    <tr>\n",
       "      <th>ca_3</th>\n",
       "      <td>0.274994</td>\n",
       "      <td>1.316523</td>\n",
       "    </tr>\n",
       "    <tr>\n",
       "      <th>cp_2</th>\n",
       "      <td>0.192827</td>\n",
       "      <td>1.212673</td>\n",
       "    </tr>\n",
       "    <tr>\n",
       "      <th>exang_1</th>\n",
       "      <td>0.191730</td>\n",
       "      <td>1.211343</td>\n",
       "    </tr>\n",
       "    <tr>\n",
       "      <th>thalach</th>\n",
       "      <td>-0.016481</td>\n",
       "      <td>0.983654</td>\n",
       "    </tr>\n",
       "    <tr>\n",
       "      <th>exang_0</th>\n",
       "      <td>-0.192206</td>\n",
       "      <td>0.825137</td>\n",
       "    </tr>\n",
       "    <tr>\n",
       "      <th>thal_6</th>\n",
       "      <td>-0.221499</td>\n",
       "      <td>0.801317</td>\n",
       "    </tr>\n",
       "    <tr>\n",
       "      <th>slope_1</th>\n",
       "      <td>-0.223877</td>\n",
       "      <td>0.799414</td>\n",
       "    </tr>\n",
       "    <tr>\n",
       "      <th>cp_1</th>\n",
       "      <td>-0.356618</td>\n",
       "      <td>0.700040</td>\n",
       "    </tr>\n",
       "    <tr>\n",
       "      <th>slope_3</th>\n",
       "      <td>-0.433934</td>\n",
       "      <td>0.647955</td>\n",
       "    </tr>\n",
       "    <tr>\n",
       "      <th>thal_3</th>\n",
       "      <td>-0.724155</td>\n",
       "      <td>0.484734</td>\n",
       "    </tr>\n",
       "    <tr>\n",
       "      <th>cp_3</th>\n",
       "      <td>-0.810055</td>\n",
       "      <td>0.444834</td>\n",
       "    </tr>\n",
       "    <tr>\n",
       "      <th>ca_0</th>\n",
       "      <td>-1.611972</td>\n",
       "      <td>0.199494</td>\n",
       "    </tr>\n",
       "  </tbody>\n",
       "</table>\n",
       "</div>"
      ],
      "text/plain": [
       "         Log Odds  Odds Ratio\n",
       "cp_4     0.973370    2.646849\n",
       "thal_7   0.945177    2.573268\n",
       "ca_2     0.902078    2.464719\n",
       "slope_2  0.657334    1.929641\n",
       "oldpeak  0.609152    1.838872\n",
       "ca_1     0.434423    1.544072\n",
       "ca_3     0.274994    1.316523\n",
       "cp_2     0.192827    1.212673\n",
       "exang_1  0.191730    1.211343\n",
       "thalach -0.016481    0.983654\n",
       "exang_0 -0.192206    0.825137\n",
       "thal_6  -0.221499    0.801317\n",
       "slope_1 -0.223877    0.799414\n",
       "cp_1    -0.356618    0.700040\n",
       "slope_3 -0.433934    0.647955\n",
       "thal_3  -0.724155    0.484734\n",
       "cp_3    -0.810055    0.444834\n",
       "ca_0    -1.611972    0.199494"
      ]
     },
     "execution_count": 337,
     "metadata": {},
     "output_type": "execute_result"
    }
   ],
   "source": [
    "# log-odds: get the coefficients and transpose the resulting array\n",
    "coefficients = model.coef_\n",
    "coefficients = coefficients.transpose()\n",
    "\n",
    "# display coefficients and predictor names, alonf with the odds ratios\n",
    "coefficients_df = pd.DataFrame(coefficients, index=X_train.columns, columns=['Log Odds']).sort_values(by='Log Odds', ascending=False)\n",
    "coefficients_df['Odds Ratio'] = np.exp(coefficients_df['Log Odds'])\n",
    "coefficients_df"
   ]
  },
  {
   "cell_type": "code",
   "execution_count": 338,
   "metadata": {},
   "outputs": [],
   "source": [
    "#### "
   ]
  },
  {
   "cell_type": "markdown",
   "metadata": {},
   "source": [
    "Based on the table above, specifically the **Odds Ratio** column, we see that these predictors are important due as their odds ratios are above 1.\n",
    "- `cp_4` \n",
    "- `thal_7`\n",
    "- `ca_2`\n",
    "- `slope_2`\n",
    "- `oldpeak`\n",
    "- `ca_1`\n",
    "- `ca_3`\n",
    "- `cp_2`\n",
    "- `cp_2`\n",
    "- `exang_1`\n",
    "\n",
    "All the above come down to 6 variables from our original dataset, namely:\n",
    "- `cp` (chest pain type)\n",
    "- `thal`\n",
    "- `ca` (number of major vessels)\n",
    "- `slope` (the slope of the peak exercise ST segment)\n",
    "- `oldpeak` (ST depression induced by exercise relative to rest)\n",
    "- `exang`(exercise induced angina)\n",
    "\n",
    "Our list of predictors to include as features in our model included one more, namely `thalach`(maximum heart rate achieved), has a odds ratio under but very close to 1 (0.98). We could rerun the model without this feature at a later point."
   ]
  },
  {
   "cell_type": "markdown",
   "metadata": {},
   "source": [
    "## Final Model Evaluation on Test Set <a name=\"model-eval\"></a>"
   ]
  },
  {
   "cell_type": "markdown",
   "metadata": {},
   "source": [
    "Finally, we can assess the predictive ability of our logistic regression model."
   ]
  },
  {
   "cell_type": "code",
   "execution_count": 339,
   "metadata": {},
   "outputs": [
    {
     "name": "stdout",
     "output_type": "stream",
     "text": [
      "Accuracy for the test model: 76.7%\n",
      "Sensitivity for the test model: 70.4%\n",
      "Specificity for the test model: 81.8%\n"
     ]
    }
   ],
   "source": [
    "# display the test data model's evaluation metrics\n",
    "y_pred = model.predict(X_test)\n",
    "eval_metrics(y_test, y_pred, 'test')"
   ]
  },
  {
   "cell_type": "markdown",
   "metadata": {},
   "source": [
    "Comparing the evaluation of train and test data:\n",
    "\n",
    "| Metric       | Train | Test |\n",
    "|--------------|-------------|------------|\n",
    "| Accuracy     | 87.3%       | 76.7%      |\n",
    "| Sensitivity  | 84.5%       | 70.4%      |\n",
    "| Specificity  | 89.8%       | 81.8%      |\n",
    "\n",
    "Accuracy reduced by more than 10% in the test model, so there is a risk that our model is overfitting. Also, what's of concern is that our test model's sensitivity has reduced by 14%, which carries the risk of not correctly identifying false negatives. Specificity also reduced but not by as much (8%)"
   ]
  },
  {
   "cell_type": "markdown",
   "metadata": {},
   "source": [
    "## Final Conclusions <a name=\"final\"></a>"
   ]
  },
  {
   "cell_type": "markdown",
   "metadata": {},
   "source": [
    "In summary, our model performed worse on unseen data, with an accuracy of 77%. Its up to the doctors to decide whether this is good enough, however, for doing initial screenings it may be enough. What's concerning is the potential number of missed diagnoses due to false negatives. \n",
    "\n",
    "Potential improvements for a model with higher accuracy and sensitivity could be:\n",
    "- changing the choice of predictors and the number of predictors\n",
    "- using scaled data in addition to unscaled data\n",
    "- using diffent ML algorithms for classification, like Random Forest or Gradient Descent"
   ]
  }
 ],
 "metadata": {
  "kernelspec": {
   "display_name": "venv-lda",
   "language": "python",
   "name": "venv-lda"
  },
  "language_info": {
   "codemirror_mode": {
    "name": "ipython",
    "version": 3
   },
   "file_extension": ".py",
   "mimetype": "text/x-python",
   "name": "python",
   "nbconvert_exporter": "python",
   "pygments_lexer": "ipython3",
   "version": "3.10.12"
  }
 },
 "nbformat": 4,
 "nbformat_minor": 1
}
